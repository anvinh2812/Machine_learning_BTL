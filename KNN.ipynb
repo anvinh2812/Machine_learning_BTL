{
 "cells": [
  {
   "cell_type": "markdown",
   "metadata": {},
   "source": [
    "# Báo cáo về Mô hình K-Nearest Neighbors (KNN) Phát hiện Mã độc"
   ]
  },
  {
   "cell_type": "markdown",
   "metadata": {},
   "source": [
    "## 1. Giới thiệu\n",
    "Mã độc là phần mềm độc hại được thiết kế để gây hại hoặc xâm nhập vào các hệ thống máy tính mà không được phép. Việc phát hiện mã độc kịp thời là rất quan trọng để bảo vệ dữ liệu và hệ thống. Trong báo cáo này, chúng tôi sẽ xây dựng một mô hình K-Nearest Neighbors (KNN) để phát hiện mã độc từ một tập dữ liệu có sẵn. Mô hình sẽ được xây dựng từ đầu mà không sử dụng các hàm có sẵn từ thư viện, nhằm giúp người đọc hiểu rõ hơn về cách thức hoạt động của KNN."
   ]
  },
  {
   "cell_type": "markdown",
   "metadata": {},
   "source": [
    "## 2. Tải và Khám Phá Dữ Liệu\n"
   ]
  },
  {
   "cell_type": "markdown",
   "metadata": {},
   "source": [
    "### 2.1. Tải dữ liệu\n",
    "Chúng tôi bắt đầu bằng việc tải dữ liệu từ file CSV sử dụng thư viện pandas."
   ]
  },
  {
   "cell_type": "code",
   "execution_count": 16,
   "metadata": {},
   "outputs": [],
   "source": [
    "import pandas as pd\n",
    "\n",
    "# Tải dữ liệu từ file CSV\n",
    "data = pd.read_csv('TUANDROMD.csv')\n"
   ]
  },
  {
   "cell_type": "markdown",
   "metadata": {},
   "source": [
    "### 2.2. Khám phá dữ liệu\n",
    "Sau khi tải dữ liệu, chúng tôi sẽ khám phá dữ liệu để hiểu rõ cấu trúc của nó. Các phương pháp sử dụng bao gồm hiển thị các dòng đầu tiên, thống kê mô tả, kiểm tra dữ liệu bị thiếu và đếm số lượng các nhãn trong cột 'Label'."
   ]
  },
  {
   "cell_type": "code",
   "execution_count": 17,
   "metadata": {},
   "outputs": [
    {
     "name": "stdout",
     "output_type": "stream",
     "text": [
      "   ACCESS_ALL_DOWNLOADS  ACCESS_CACHE_FILESYSTEM  ACCESS_CHECKIN_PROPERTIES  \\\n",
      "0                   0.0                      0.0                        0.0   \n",
      "1                   0.0                      0.0                        0.0   \n",
      "2                   0.0                      0.0                        0.0   \n",
      "3                   0.0                      0.0                        0.0   \n",
      "4                   0.0                      0.0                        0.0   \n",
      "\n",
      "   ACCESS_COARSE_LOCATION  ACCESS_COARSE_UPDATES  ACCESS_FINE_LOCATION  \\\n",
      "0                     0.0                    0.0                   0.0   \n",
      "1                     0.0                    0.0                   0.0   \n",
      "2                     0.0                    0.0                   0.0   \n",
      "3                     0.0                    0.0                   0.0   \n",
      "4                     0.0                    0.0                   0.0   \n",
      "\n",
      "   ACCESS_LOCATION_EXTRA_COMMANDS  ACCESS_MOCK_LOCATION  ACCESS_MTK_MMHW  \\\n",
      "0                             0.0                   0.0              0.0   \n",
      "1                             0.0                   0.0              0.0   \n",
      "2                             0.0                   0.0              0.0   \n",
      "3                             0.0                   0.0              0.0   \n",
      "4                             0.0                   0.0              0.0   \n",
      "\n",
      "   ACCESS_NETWORK_STATE  ...  \\\n",
      "0                   1.0  ...   \n",
      "1                   1.0  ...   \n",
      "2                   1.0  ...   \n",
      "3                   0.0  ...   \n",
      "4                   0.0  ...   \n",
      "\n",
      "   Landroid/telephony/TelephonyManager;->getLine1Number  \\\n",
      "0                                                1.0      \n",
      "1                                                0.0      \n",
      "2                                                0.0      \n",
      "3                                                0.0      \n",
      "4                                                0.0      \n",
      "\n",
      "   Landroid/telephony/TelephonyManager;->getNetworkOperator  \\\n",
      "0                                                1.0          \n",
      "1                                                0.0          \n",
      "2                                                0.0          \n",
      "3                                                1.0          \n",
      "4                                                0.0          \n",
      "\n",
      "   Landroid/telephony/TelephonyManager;->getNetworkOperatorName  \\\n",
      "0                                                1.0              \n",
      "1                                                0.0              \n",
      "2                                                0.0              \n",
      "3                                                1.0              \n",
      "4                                                0.0              \n",
      "\n",
      "   Landroid/telephony/TelephonyManager;->getNetworkCountryIso  \\\n",
      "0                                                0.0            \n",
      "1                                                1.0            \n",
      "2                                                0.0            \n",
      "3                                                1.0            \n",
      "4                                                0.0            \n",
      "\n",
      "   Landroid/telephony/TelephonyManager;->getSimOperator  \\\n",
      "0                                                0.0      \n",
      "1                                                0.0      \n",
      "2                                                0.0      \n",
      "3                                                1.0      \n",
      "4                                                0.0      \n",
      "\n",
      "   Landroid/telephony/TelephonyManager;->getSimOperatorName  \\\n",
      "0                                                0.0          \n",
      "1                                                0.0          \n",
      "2                                                0.0          \n",
      "3                                                0.0          \n",
      "4                                                0.0          \n",
      "\n",
      "   Landroid/telephony/TelephonyManager;->getSimCountryIso  \\\n",
      "0                                                0.0        \n",
      "1                                                1.0        \n",
      "2                                                0.0        \n",
      "3                                                1.0        \n",
      "4                                                0.0        \n",
      "\n",
      "   Landroid/telephony/TelephonyManager;->getSimSerialNumber  \\\n",
      "0                                                0.0          \n",
      "1                                                0.0          \n",
      "2                                                0.0          \n",
      "3                                                0.0          \n",
      "4                                                0.0          \n",
      "\n",
      "   Lorg/apache/http/impl/client/DefaultHttpClient;->execute  Label  \n",
      "0                                                1.0           1.0  \n",
      "1                                                0.0           1.0  \n",
      "2                                                0.0           1.0  \n",
      "3                                                0.0           1.0  \n",
      "4                                                0.0           1.0  \n",
      "\n",
      "[5 rows x 242 columns]\n",
      "       ACCESS_ALL_DOWNLOADS  ACCESS_CACHE_FILESYSTEM  \\\n",
      "count           4464.000000              4464.000000   \n",
      "mean               0.000896                 0.000896   \n",
      "std                0.029924                 0.029924   \n",
      "min                0.000000                 0.000000   \n",
      "25%                0.000000                 0.000000   \n",
      "50%                0.000000                 0.000000   \n",
      "75%                0.000000                 0.000000   \n",
      "max                1.000000                 1.000000   \n",
      "\n",
      "       ACCESS_CHECKIN_PROPERTIES  ACCESS_COARSE_LOCATION  \\\n",
      "count                4464.000000             4464.000000   \n",
      "mean                    0.004928                0.083333   \n",
      "std                     0.070037                0.276416   \n",
      "min                     0.000000                0.000000   \n",
      "25%                     0.000000                0.000000   \n",
      "50%                     0.000000                0.000000   \n",
      "75%                     0.000000                0.000000   \n",
      "max                     1.000000                1.000000   \n",
      "\n",
      "       ACCESS_COARSE_UPDATES  ACCESS_FINE_LOCATION  \\\n",
      "count            4464.000000           4464.000000   \n",
      "mean                0.006944              0.087814   \n",
      "std                 0.083053              0.283055   \n",
      "min                 0.000000              0.000000   \n",
      "25%                 0.000000              0.000000   \n",
      "50%                 0.000000              0.000000   \n",
      "75%                 0.000000              0.000000   \n",
      "max                 1.000000              1.000000   \n",
      "\n",
      "       ACCESS_LOCATION_EXTRA_COMMANDS  ACCESS_MOCK_LOCATION  ACCESS_MTK_MMHW  \\\n",
      "count                     4464.000000           4464.000000      4464.000000   \n",
      "mean                         0.022849              0.023746         0.000224   \n",
      "std                          0.149440              0.152272         0.014967   \n",
      "min                          0.000000              0.000000         0.000000   \n",
      "25%                          0.000000              0.000000         0.000000   \n",
      "50%                          0.000000              0.000000         0.000000   \n",
      "75%                          0.000000              0.000000         0.000000   \n",
      "max                          1.000000              1.000000         1.000000   \n",
      "\n",
      "       ACCESS_NETWORK_STATE  ...  \\\n",
      "count           4464.000000  ...   \n",
      "mean               0.596326  ...   \n",
      "std                0.490689  ...   \n",
      "min                0.000000  ...   \n",
      "25%                0.000000  ...   \n",
      "50%                1.000000  ...   \n",
      "75%                1.000000  ...   \n",
      "max                1.000000  ...   \n",
      "\n",
      "       Landroid/telephony/TelephonyManager;->getLine1Number  \\\n",
      "count                                        4464.000000      \n",
      "mean                                            0.173163      \n",
      "std                                             0.378431      \n",
      "min                                             0.000000      \n",
      "25%                                             0.000000      \n",
      "50%                                             0.000000      \n",
      "75%                                             0.000000      \n",
      "max                                             1.000000      \n",
      "\n",
      "       Landroid/telephony/TelephonyManager;->getNetworkOperator  \\\n",
      "count                                        4464.000000          \n",
      "mean                                            0.245520          \n",
      "std                                             0.430443          \n",
      "min                                             0.000000          \n",
      "25%                                             0.000000          \n",
      "50%                                             0.000000          \n",
      "75%                                             0.000000          \n",
      "max                                             1.000000          \n",
      "\n",
      "       Landroid/telephony/TelephonyManager;->getNetworkOperatorName  \\\n",
      "count                                        4464.000000              \n",
      "mean                                            0.215950              \n",
      "std                                             0.411526              \n",
      "min                                             0.000000              \n",
      "25%                                             0.000000              \n",
      "50%                                             0.000000              \n",
      "75%                                             0.000000              \n",
      "max                                             1.000000              \n",
      "\n",
      "       Landroid/telephony/TelephonyManager;->getNetworkCountryIso  \\\n",
      "count                                        4464.000000            \n",
      "mean                                            0.091622            \n",
      "std                                             0.288524            \n",
      "min                                             0.000000            \n",
      "25%                                             0.000000            \n",
      "50%                                             0.000000            \n",
      "75%                                             0.000000            \n",
      "max                                             1.000000            \n",
      "\n",
      "       Landroid/telephony/TelephonyManager;->getSimOperator  \\\n",
      "count                                        4464.000000      \n",
      "mean                                            0.088710      \n",
      "std                                             0.284356      \n",
      "min                                             0.000000      \n",
      "25%                                             0.000000      \n",
      "50%                                             0.000000      \n",
      "75%                                             0.000000      \n",
      "max                                             1.000000      \n",
      "\n",
      "       Landroid/telephony/TelephonyManager;->getSimOperatorName  \\\n",
      "count                                        4464.000000          \n",
      "mean                                            0.056228          \n",
      "std                                             0.230387          \n",
      "min                                             0.000000          \n",
      "25%                                             0.000000          \n",
      "50%                                             0.000000          \n",
      "75%                                             0.000000          \n",
      "max                                             1.000000          \n",
      "\n",
      "       Landroid/telephony/TelephonyManager;->getSimCountryIso  \\\n",
      "count                                        4464.000000        \n",
      "mean                                            0.133065        \n",
      "std                                             0.339682        \n",
      "min                                             0.000000        \n",
      "25%                                             0.000000        \n",
      "50%                                             0.000000        \n",
      "75%                                             0.000000        \n",
      "max                                             1.000000        \n",
      "\n",
      "       Landroid/telephony/TelephonyManager;->getSimSerialNumber  \\\n",
      "count                                        4464.000000          \n",
      "mean                                            0.013665          \n",
      "std                                             0.116108          \n",
      "min                                             0.000000          \n",
      "25%                                             0.000000          \n",
      "50%                                             0.000000          \n",
      "75%                                             0.000000          \n",
      "max                                             1.000000          \n",
      "\n",
      "       Lorg/apache/http/impl/client/DefaultHttpClient;->execute        Label  \n",
      "count                                        4464.000000         4464.000000  \n",
      "mean                                            0.150090            0.798611  \n",
      "std                                             0.357199            0.401083  \n",
      "min                                             0.000000            0.000000  \n",
      "25%                                             0.000000            1.000000  \n",
      "50%                                             0.000000            1.000000  \n",
      "75%                                             0.000000            1.000000  \n",
      "max                                             1.000000            1.000000  \n",
      "\n",
      "[8 rows x 242 columns]\n",
      "ACCESS_ALL_DOWNLOADS                                        1\n",
      "ACCESS_CACHE_FILESYSTEM                                     1\n",
      "ACCESS_CHECKIN_PROPERTIES                                   1\n",
      "ACCESS_COARSE_LOCATION                                      1\n",
      "ACCESS_COARSE_UPDATES                                       1\n",
      "                                                           ..\n",
      "Landroid/telephony/TelephonyManager;->getSimOperatorName    1\n",
      "Landroid/telephony/TelephonyManager;->getSimCountryIso      1\n",
      "Landroid/telephony/TelephonyManager;->getSimSerialNumber    1\n",
      "Lorg/apache/http/impl/client/DefaultHttpClient;->execute    1\n",
      "Label                                                       1\n",
      "Length: 242, dtype: int64\n",
      "Label\n",
      "1.0    3565\n",
      "0.0     899\n",
      "Name: count, dtype: int64\n"
     ]
    }
   ],
   "source": [
    "# Khám phá dữ liệu\n",
    "print(data.head())  # Hiển thị 5 dòng đầu tiên\n",
    "print(data.describe())  # Thống kê mô tả các đặc trưng số\n",
    "print(data.isnull().sum())  # Kiểm tra dữ liệu bị thiếu\n",
    "print(data['Label'].value_counts())  # Đếm số lượng các nhãn trong cột 'Label'\n"
   ]
  },
  {
   "cell_type": "markdown",
   "metadata": {},
   "source": [
    "### Kết quả khám phá:\n",
    "\n",
    "-   head(): Giúp nắm bắt được các đặc trưng của dữ liệu.\n",
    "-   describe(): Cung cấp thông tin về giá trị tối thiểu, tối đa, trung bình, v.v., của các đặc trưng số.\n",
    "-   isnull().sum(): Cho phép kiểm tra xem có giá trị nào bị thiếu hay không, giúp xác định xem cần phải xử lý các giá trị thiếu trước khi huấn luyện mô hình.\n",
    "-   value_counts(): Thống kê số lượng các nhãn khác nhau trong cột 'Label', từ đó giúp chúng ta hiểu rõ phân bố nhãn trong tập dữ liệu."
   ]
  },
  {
   "cell_type": "markdown",
   "metadata": {},
   "source": [
    "## 3. Tiền Xử Lý Dữ Liệu"
   ]
  },
  {
   "cell_type": "markdown",
   "metadata": {},
   "source": [
    "### 3.1. Chia dữ liệu\n",
    "Sau khi khám phá dữ liệu, chúng tôi tiến hành chia dữ liệu thành các biến đặc trưng (X) và nhãn (y). Biến đặc trưng bao gồm tất cả các cột ngoại trừ cột 'Label', trong khi 'Label' sẽ là nhãn để phân loại."
   ]
  },
  {
   "cell_type": "code",
   "execution_count": 18,
   "metadata": {},
   "outputs": [],
   "source": [
    "import numpy as np\n",
    "from sklearn.model_selection import train_test_split\n",
    "\n",
    "# Chia dữ liệu thành X (các đặc điểm) và y (nhãn)\n",
    "X = data.drop('Label', axis=1).values  # Loại bỏ cột 'Label' để lấy đặc trưng\n",
    "y = data['Label'].values  # Lấy cột 'Label' làm nhãn\n"
   ]
  },
  {
   "cell_type": "markdown",
   "metadata": {},
   "source": [
    "### 3.2. Chia tập huấn luyện và tập kiểm tra\n",
    "Chúng tôi sẽ chia dữ liệu thành hai phần: tập huấn luyện (80%) và tập kiểm tra (20%). Tập huấn luyện sẽ được sử dụng để huấn luyện mô hình, trong khi tập kiểm tra sẽ dùng để đánh giá hiệu suất của mô hình."
   ]
  },
  {
   "cell_type": "code",
   "execution_count": 19,
   "metadata": {},
   "outputs": [],
   "source": [
    "# Chia dữ liệu thành tập huấn luyện và tập kiểm tra (80-20)\n",
    "X_train, X_test, y_train, y_test = train_test_split(X, y, test_size=0.2, random_state=42)\n"
   ]
  },
  {
   "cell_type": "markdown",
   "metadata": {},
   "source": [
    "## 4. Xây Dựng Mô Hình KNN\n",
    "Chúng tôi sẽ xây dựng một lớp KNN từ đầu. Mô hình KNN sẽ dựa trên ý tưởng rằng các điểm dữ liệu gần nhau trong không gian đặc trưng có xu hướng có cùng nhãn."
   ]
  },
  {
   "cell_type": "code",
   "execution_count": 20,
   "metadata": {},
   "outputs": [],
   "source": [
    "class KNN:\n",
    "    def __init__(self, k=3):\n",
    "        self.k = k  # Số lượng láng giềng gần nhất\n",
    "\n",
    "    def fit(self, X, y):\n",
    "        self.X_train = X  # Lưu tập huấn luyện\n",
    "        self.y_train = y  # Lưu nhãn huấn luyện\n",
    "\n",
    "    def predict(self, X):\n",
    "        predictions = [self._predict(sample) for sample in X]  # Dự đoán cho từng mẫu\n",
    "        return np.array(predictions)\n",
    "\n",
    "    def _predict(self, sample):\n",
    "        # Tính toán khoảng cách Euclidean giữa mẫu và tất cả các điểm trong tập huấn luyện\n",
    "        distances = np.linalg.norm(self.X_train - sample, axis=1)\n",
    "        k_indices = np.argsort(distances)[:self.k]  # Lấy chỉ số của k láng giềng gần nhất\n",
    "        k_nearest_labels = [self.y_train[i] for i in k_indices]  # Lấy nhãn của k láng giềng\n",
    "        most_common = np.bincount(k_nearest_labels).argmax()  # Trả về nhãn phổ biến nhất\n",
    "        return most_common\n"
   ]
  },
  {
   "cell_type": "markdown",
   "metadata": {},
   "source": [
    "### Giải thích từng thành phần trong lớp KNN:\n",
    "- __init__: Khởi tạo mô hình với tham số k, số lượng láng giềng gần nhất để xem xét.\n",
    "- fit: Lưu trữ tập huấn luyện và nhãn tương ứng để sử dụng trong quá trình dự đoán.\n",
    "- predict: Dự đoán nhãn cho mỗi mẫu trong tập kiểm tra.\n",
    "- _predict: Tính toán khoảng cách Euclidean giữa mẫu cần dự đoán và tất cả các mẫu trong tập huấn luyện, xác định nhãn phổ biến nhất từ k láng giềng gần nhất."
   ]
  },
  {
   "cell_type": "markdown",
   "metadata": {},
   "source": [
    "## 5. Huấn Luyện Mô Hình\n",
    "Chúng tôi sẽ khởi tạo mô hình KNN và huấn luyện nó bằng cách gọi hàm fit."
   ]
  },
  {
   "cell_type": "code",
   "execution_count": 21,
   "metadata": {},
   "outputs": [],
   "source": [
    "# Khởi tạo mô hình KNN\n",
    "k = 5  # Số lượng láng giềng gần nhất\n",
    "knn_model = KNN(k=k)\n",
    "\n",
    "# Huấn luyện mô hình\n",
    "knn_model.fit(X_train, y_train)\n"
   ]
  },
  {
   "cell_type": "markdown",
   "metadata": {},
   "source": [
    "### Giải thích:\n",
    "\n",
    "Mô hình KNN được khởi tạo với số lượng láng giềng gần nhất là 5 và sau đó được huấn luyện trên tập dữ liệu huấn luyện."
   ]
  },
  {
   "cell_type": "markdown",
   "metadata": {},
   "source": [
    "## 6. Dự Đoán và Đánh Giá Độ Chính Xác\n",
    "Sau khi huấn luyện mô hình, chúng tôi sẽ sử dụng nó để dự đoán các nhãn cho tập kiểm tra và tính toán độ chính xác."
   ]
  },
  {
   "cell_type": "code",
   "execution_count": 22,
   "metadata": {},
   "outputs": [
    {
     "name": "stdout",
     "output_type": "stream",
     "text": [
      "Accuracy: 99.22%\n"
     ]
    }
   ],
   "source": [
    "# Dự đoán trên tập kiểm tra\n",
    "y_pred = knn_model.predict(X_test)\n",
    "\n",
    "# Tính toán độ chính xác\n",
    "accuracy = np.mean(y_pred == y_test)\n",
    "print(f'Accuracy: {accuracy * 100:.2f}%')\n"
   ]
  },
  {
   "cell_type": "markdown",
   "metadata": {},
   "source": [
    "### Giải thích:\n",
    "\n",
    "Mô hình sẽ dự đoán nhãn cho tập kiểm tra và so sánh với nhãn thực tế để tính toán độ chính xác của mô hình."
   ]
  },
  {
   "cell_type": "markdown",
   "metadata": {},
   "source": [
    "## 7. Phân Tích Kết Quả\n",
    "Chúng tôi sẽ sử dụng ma trận nhầm lẫn để phân tích các dự đoán, giúp hiểu rõ hơn về hiệu suất của mô hình."
   ]
  },
  {
   "cell_type": "code",
   "execution_count": 23,
   "metadata": {},
   "outputs": [
    {
     "data": {
      "image/png": "[encoded data removed]",
      "text/plain": [
       "<Figure size 800x600 with 1 Axes>"
      ]
     },
     "metadata": {},
     "output_type": "display_data"
    }
   ],
   "source": [
    "import matplotlib.pyplot as plt\n",
    "from sklearn.metrics import confusion_matrix\n",
    "import seaborn as sns\n",
    "\n",
    "# Tính toán ma trận nhầm lẫn\n",
    "cm = confusion_matrix(y_test, y_pred)\n",
    "\n",
    "# Vẽ biểu đồ ma trận nhầm lẫn\n",
    "plt.figure(figsize=(8, 6))\n",
    "sns.heatmap(cm, annot=True, fmt='d', cmap='Blues', cbar=False,\n",
    "            xticklabels=['Không phải mã độc (0)', 'Mã độc (1)'],\n",
    "            yticklabels=['Không phải mã độc (0)', 'Mã độc (1)'])\n",
    "plt.title('Ma trận nhầm lẫn')\n",
    "plt.xlabel('Nhãn dự đoán')\n",
    "plt.ylabel('Nhãn thực tế')\n",
    "plt.show()\n"
   ]
  },
  {
   "cell_type": "markdown",
   "metadata": {},
   "source": [
    "### Giải thích:\n",
    "- confusion_matrix: Tính toán ma trận nhầm lẫn giữa nhãn thực tế và nhãn dự đoán.\n",
    "- seaborn heatmap: Vẽ biểu đồ nhiệt để trực quan hóa ma trận nhầm lẫn, giúp dễ dàng nhận thấy số lượng đúng và sai của các dự đoán."
   ]
  },
  {
   "cell_type": "markdown",
   "metadata": {},
   "source": [
    "## 8. Kết Luận\n",
    "Quá trình xây dựng mô hình K-Nearest Neighbors để phát hiện mã độc từ tập dữ liệu CSV bao gồm các bước từ tải và khám phá dữ liệu, tiền xử lý, xây dựng mô hình, huấn luyện, dự đoán và phân tích kết quả. Mô hình KNN cho thấy một độ chính xác cao trong việc phân loại mã độc so với không phải mã độc."
   ]
  },
  {
   "cell_type": "code",
   "execution_count": null,
   "metadata": {},
   "outputs": [],
   "source": []
  }
 ],
 "metadata": {
  "kernelspec": {
   "display_name": "Python 3",
   "language": "python",
   "name": "python3"
  },
  "language_info": {
   "codemirror_mode": {
    "name": "ipython",
    "version": 3
   },
   "file_extension": ".py",
   "mimetype": "text/x-python",
   "name": "python",
   "nbconvert_exporter": "python",
   "pygments_lexer": "ipython3",
   "version": "3.12.2"
  }
 },
 "nbformat": 4,
 "nbformat_minor": 2
}
